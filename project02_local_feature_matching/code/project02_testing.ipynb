{
 "cells": [
  {
   "cell_type": "markdown",
   "metadata": {},
   "source": [
    "# Assignment 02 test code"
   ]
  },
  {
   "cell_type": "code",
   "execution_count": null,
   "metadata": {},
   "outputs": [],
   "source": [
    "#%matplotlib inline\n",
    "%load_ext autoreload\n",
    "%autoreload 2"
   ]
  },
  {
   "cell_type": "code",
   "execution_count": null,
   "metadata": {},
   "outputs": [],
   "source": [
    "import numpy as np\n",
    "import development\n",
    "import matplotlib.pyplot as plt\n",
    "import visualize\n",
    "from main import load_data\n",
    "from skimage.color import rgb2gray\n",
    "from skimage.transform import rescale\n",
    "from skimage.feature import plot_matches\n",
    "from helpers import cheat_interest_points, evaluate_correspondence"
   ]
  },
  {
   "cell_type": "markdown",
   "metadata": {},
   "source": [
    "##  Test code using interest point ground truth labels"
   ]
  },
  {
   "cell_type": "code",
   "execution_count": null,
   "metadata": {},
   "outputs": [],
   "source": [
    "plt.rcParams[\"lines.linewidth\"] = 0.2\n",
    "for file_i in [\"notre_dame\", \"mt_rushmore\", \"e_gaudi\"]:\n",
    "    image1, image2, eval_file = load_data(file_i)\n",
    "    image1 = rgb2gray(image1) * 255\n",
    "    image2 = rgb2gray(image2) * 255\n",
    "    scale_factor = .5\n",
    "    image1 = np.float32(rescale(image1, scale_factor, multichannel=False))\n",
    "    image2 = np.float32(rescale(image2, scale_factor, multichannel=False))\n",
    "    feature_width = 16\n",
    "    (x1, y1, x2, y2) = cheat_interest_points(eval_file, scale_factor) \n",
    "    image1_features = development.get_features(image1, x1, y1, feature_width)\n",
    "    image2_features = development.get_features(image2, x2, y2, feature_width)\n",
    "    matches, confidences = development.match_features(image1_features, image2_features)\n",
    "    num_pts_to_evaluate = matches.shape[0]\n",
    "    evaluate_correspondence(image1, image2, eval_file, scale_factor,\n",
    "                            x1, y1, x2, y2, matches, confidences, num_pts_to_evaluate)"
   ]
  },
  {
   "cell_type": "markdown",
   "metadata": {},
   "source": [
    "## Test code using get_interest_points()"
   ]
  },
  {
   "cell_type": "code",
   "execution_count": null,
   "metadata": {},
   "outputs": [],
   "source": [
    "plt.rcParams[\"lines.linewidth\"] = 0.2\n",
    "sigma = 2\n",
    "for file_i in [\"notre_dame\", \"mt_rushmore\", \"e_gaudi\"]:\n",
    "    plt.rcParams[\"lines.linewidth\"] = 0.2\n",
    "    image1, image2, eval_file = load_data(file_i)\n",
    "    image1 = rgb2gray(image1) * 255\n",
    "    image2 = rgb2gray(image2) * 255\n",
    "    scale_factor = .5\n",
    "    image1 = np.float32(rescale(image1, scale_factor, multichannel=False))\n",
    "    image2 = np.float32(rescale(image2, scale_factor, multichannel=False))\n",
    "    feature_width = 16\n",
    "    x1, y1 = development.get_interest_points(image1, feature_width)\n",
    "    x2, y2 = development.get_interest_points(image2, feature_width) \n",
    "    print(x1.shape, x2.shape)\n",
    "    if len(x1) > 2000 or len(x2) > 2000:\n",
    "        x1 = np.random.choice(x1, 2000)\n",
    "        y1 = np.random.choice(y1, 2000)\n",
    "        x2 = np.random.choice(x2, 2000)\n",
    "        y2 = np.random.choice(y2, 2000)\n",
    "        print(x1.shape, x2.shape, R1.shape)\n",
    "    image1_features = development.get_features(image1, x1, y1, feature_width)\n",
    "    image2_features = development.get_features(image2, x2, y2, feature_width)\n",
    "    matches, confidences = development.match_features(image1_features, image2_features)\n",
    "    num_pts_to_evaluate = matches.shape[0]\n",
    "    evaluate_correspondence(image1, image2, eval_file, scale_factor,\n",
    "                            x1, y1, x2, y2, matches, confidences, num_pts_to_evaluate)"
   ]
  }
 ],
 "metadata": {
  "kernelspec": {
   "display_name": "Python 3",
   "language": "python",
   "name": "python3"
  },
  "language_info": {
   "codemirror_mode": {
    "name": "ipython",
    "version": 3
   },
   "file_extension": ".py",
   "mimetype": "text/x-python",
   "name": "python",
   "nbconvert_exporter": "python",
   "pygments_lexer": "ipython3",
   "version": "3.6.8"
  }
 },
 "nbformat": 4,
 "nbformat_minor": 2
}
