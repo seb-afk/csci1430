{
 "cells": [
  {
   "cell_type": "code",
   "execution_count": null,
   "metadata": {},
   "outputs": [],
   "source": [
    "%matplotlib inline\n",
    "%load_ext autoreload\n",
    "%autoreload 2\n",
    "import student\n",
    "from main import load_data\n",
    "\n",
    "import numpy as np\n",
    "import matplotlib.pyplot as plt\n",
    "import scipy\n",
    "import development\n",
    "from main import load_data\n",
    "from skimage import io, filters, feature, img_as_float32\n",
    "from skimage.transform import rescale\n",
    "from skimage.color import rgb2gray\n",
    "from helpers import cheat_interest_points\n",
    "np.set_printoptions(precision=8, suppress=True)"
   ]
  },
  {
   "cell_type": "markdown",
   "metadata": {},
   "source": [
    "# Feature matching\n",
    "\n",
    "For feature matching we use the **nearest neighbor distance ratio (NDDR)** metric to measure the distance between the feature vectors of two images. D1 and D2 are the nearest and second nearest neighbor distaces. \n",
    "\n",
    "$NDDR = \\frac{d_1}{d_2} = \\frac{||D_A - D_B||}{||D_A - D_C||}$"
   ]
  },
  {
   "cell_type": "code",
   "execution_count": null,
   "metadata": {},
   "outputs": [],
   "source": [
    "im1_features = np.array([[1], [200], [100]])\n",
    "im2_features = np.array([[1.1], [1.2], [202]])\n",
    "matches, confidences = development.match_features(im1_features, im2_features)"
   ]
  },
  {
   "cell_type": "code",
   "execution_count": null,
   "metadata": {},
   "outputs": [],
   "source": [
    "matches, confidences"
   ]
  },
  {
   "cell_type": "markdown",
   "metadata": {},
   "source": [
    "# Feature vector generation"
   ]
  },
  {
   "cell_type": "code",
   "execution_count": null,
   "metadata": {},
   "outputs": [],
   "source": [
    "x = np.array([7, 7])\n",
    "y = np.array([7, 7])\n",
    "feature_width = 16\n",
    "imgsize = 18\n",
    "image = np.arange(0,imgsize*imgsize).reshape(imgsize,imgsize)\n",
    "imgsize"
   ]
  },
  {
   "cell_type": "code",
   "execution_count": null,
   "metadata": {},
   "outputs": [],
   "source": [
    "feat = development.get_features(image,x,y,feature_width)"
   ]
  },
  {
   "cell_type": "code",
   "execution_count": null,
   "metadata": {},
   "outputs": [],
   "source": [
    "n_bins = 8\n",
    "gradients = np.array(np.gradient(image))\n",
    "magnitudes = np.linalg.norm(gradients, axis=0)\n",
    "angles = np.angle(np.arctan2(gradients[0], gradients[1]), deg=True)\n",
    "bins = np.digitize(angles,np.arange(0,360,360 // n_bins))"
   ]
  },
  {
   "cell_type": "code",
   "execution_count": null,
   "metadata": {},
   "outputs": [],
   "source": [
    "feature_vector = np.zeros(n_bins)\n",
    "for i in range(0,n_bins):\n",
    "    mask = np.array(bins == i).flatten()\n",
    "    feature_vector[i] = np.sum(magnitudes.flatten()[mask])"
   ]
  },
  {
   "cell_type": "code",
   "execution_count": null,
   "metadata": {},
   "outputs": [],
   "source": [
    "feature_vector"
   ]
  },
  {
   "cell_type": "markdown",
   "metadata": {},
   "source": [
    "# Interest point detection"
   ]
  },
  {
   "cell_type": "code",
   "execution_count": null,
   "metadata": {},
   "outputs": [],
   "source": [
    "from skimage.measure import regionprops\n",
    "from skimage.feature import peak_local_max\n",
    "\n",
    "image1, image2, eval_file = load_data(\"e_gaudi\")\n",
    "image1 = rgb2gray(image1) * 255\n",
    "image2 = rgb2gray(image2) * 255\n",
    "scale_factor = .5\n",
    "image1 = np.float32(rescale(image1, scale_factor, multichannel=False))\n",
    "image2 = np.float32(rescale(image2, scale_factor, multichannel=False))\n",
    "plt.imshow(image1, cmap=\"gray\")"
   ]
  },
  {
   "cell_type": "code",
   "execution_count": null,
   "metadata": {},
   "outputs": [],
   "source": [
    "image = image1\n",
    "sigma = 3\n",
    "# TODO consider doing this in one step.\n",
    "image_blurred = filters.gaussian(image, sigma)\n",
    "Iy, Ix = np.gradient(image_blurred)\n",
    "Ixx = filters.gaussian(Ix * Ix, sigma)\n",
    "Iyy = filters.gaussian(Iy * Iy, sigma)\n",
    "Ixy = filters.gaussian(Ix * Iy, sigma)"
   ]
  },
  {
   "cell_type": "code",
   "execution_count": null,
   "metadata": {},
   "outputs": [],
   "source": [
    "alpha = 0.04\n",
    "R = Ixx * Iyy - Ixy**2 - alpha * (Ixx + Iyy)**2\n",
    "R_norm = (R-np.min(R))/(np.max(R)-np.min(R))\n",
    "plt.imshow(R_norm, cmap=\"gray\")"
   ]
  },
  {
   "cell_type": "code",
   "execution_count": null,
   "metadata": {},
   "outputs": [],
   "source": [
    "from skimage.feature import peak_local_max\n",
    "corners = R_norm\n",
    "threshold = np.mean(R_norm)\n",
    "#mask = [corners<threshold]\n",
    "#corners[mask] = 0\n",
    "plt.imshow(corners, cmap=\"gray\")\n",
    "keypoints = peak_local_max(corners, threshold_rel=0.3)\n",
    "keypoints.shape"
   ]
  },
  {
   "cell_type": "code",
   "execution_count": null,
   "metadata": {},
   "outputs": [],
   "source": []
  }
 ],
 "metadata": {
  "kernelspec": {
   "display_name": "Python 3",
   "language": "python",
   "name": "python3"
  },
  "language_info": {
   "codemirror_mode": {
    "name": "ipython",
    "version": 3
   },
   "file_extension": ".py",
   "mimetype": "text/x-python",
   "name": "python",
   "nbconvert_exporter": "python",
   "pygments_lexer": "ipython3",
   "version": "3.6.8"
  }
 },
 "nbformat": 4,
 "nbformat_minor": 2
}
