{
 "cells": [
  {
   "cell_type": "code",
   "execution_count": null,
   "metadata": {},
   "outputs": [],
   "source": [
    "%matplotlib inline\n",
    "%load_ext autoreload\n",
    "%autoreload 2\n",
    "import student\n",
    "import numpy as np\n",
    "import matplotlib.pyplot as plt\n",
    "import scipy\n",
    "import development\n",
    "from main import load_data\n",
    "from skimage import io, filters, feature, img_as_float32\n",
    "from skimage.transform import rescale\n",
    "from skimage.color import rgb2gray\n",
    "from helpers import cheat_interest_points\n",
    "np.set_printoptions(precision=8, suppress=True)"
   ]
  },
  {
   "cell_type": "markdown",
   "metadata": {},
   "source": [
    "# Feature matching\n",
    "\n",
    "For feature matching we use the **nearest neighbor distance ratio (NDDR)** metric to measure the distance between the feature vectors of two images. D1 and D2 are the nearest and second nearest neighbor distaces. \n",
    "\n",
    "$NDDR = \\frac{d_1}{d_2} = \\frac{||D_A - D_B||}{||D_A - D_C||}$"
   ]
  },
  {
   "cell_type": "code",
   "execution_count": null,
   "metadata": {},
   "outputs": [],
   "source": [
    "im1_features = np.array([[1], [200], [100]])\n",
    "im2_features = np.array([[1.1], [1.2], [202]])\n",
    "matches, confidences = development.match_features(im1_features, im2_features)"
   ]
  },
  {
   "cell_type": "code",
   "execution_count": null,
   "metadata": {},
   "outputs": [],
   "source": [
    "matches, confidences"
   ]
  },
  {
   "cell_type": "markdown",
   "metadata": {},
   "source": [
    "# Feature vector generation"
   ]
  },
  {
   "cell_type": "code",
   "execution_count": null,
   "metadata": {},
   "outputs": [],
   "source": [
    "x = np.array([7, 7])\n",
    "y = np.array([7, 7])\n",
    "feature_width = 16\n",
    "imgsize = 18\n",
    "image = np.arange(0,imgsize*imgsize).reshape(imgsize,imgsize)\n",
    "imgsize"
   ]
  },
  {
   "cell_type": "code",
   "execution_count": null,
   "metadata": {},
   "outputs": [],
   "source": [
    "feat = development.get_features(image,x,y,feature_width)"
   ]
  },
  {
   "cell_type": "code",
   "execution_count": null,
   "metadata": {},
   "outputs": [],
   "source": [
    "feat.shape"
   ]
  },
  {
   "cell_type": "code",
   "execution_count": null,
   "metadata": {},
   "outputs": [],
   "source": [
    "n_bins = 8\n",
    "gradients = np.array(np.gradient(image))\n",
    "magnitudes = np.linalg.norm(gradients, axis=0)\n",
    "angles = np.angle(np.arctan2(gradients[0], gradients[1]), deg=True)\n",
    "bins = np.digitize(angles,np.arange(0,360,360 // n_bins))"
   ]
  },
  {
   "cell_type": "code",
   "execution_count": null,
   "metadata": {},
   "outputs": [],
   "source": [
    "feature_vector = np.zeros(n_bins)\n",
    "for i in range(0,n_bins):\n",
    "    mask = np.array(bins == i).flatten()\n",
    "    feature_vector[i] = np.sum(magnitudes.flatten()[mask])"
   ]
  },
  {
   "cell_type": "code",
   "execution_count": null,
   "metadata": {},
   "outputs": [],
   "source": [
    "feature_vector"
   ]
  }
 ],
 "metadata": {
  "kernelspec": {
   "display_name": "Python 3",
   "language": "python",
   "name": "python3"
  },
  "language_info": {
   "codemirror_mode": {
    "name": "ipython",
    "version": 3
   },
   "file_extension": ".py",
   "mimetype": "text/x-python",
   "name": "python",
   "nbconvert_exporter": "python",
   "pygments_lexer": "ipython3",
   "version": "3.6.8"
  }
 },
 "nbformat": 4,
 "nbformat_minor": 2
}
