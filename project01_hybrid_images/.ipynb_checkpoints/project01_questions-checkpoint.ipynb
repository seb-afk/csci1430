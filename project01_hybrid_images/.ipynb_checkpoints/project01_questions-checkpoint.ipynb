{
 "cells": [
  {
   "cell_type": "markdown",
   "metadata": {},
   "source": [
    "# Project 1 - Questions"
   ]
  },
  {
   "cell_type": "code",
   "execution_count": null,
   "metadata": {},
   "outputs": [],
   "source": [
    "from matplotlib.pyplot import imread, imshow\n",
    "from scipy import ndimage\n",
    "import numpy as np\n",
    "import matplotlib.pyplot as plt\n"
   ]
  },
  {
   "cell_type": "code",
   "execution_count": null,
   "metadata": {},
   "outputs": [],
   "source": [
    "img = imread(\"../image.JPG\")"
   ]
  },
  {
   "cell_type": "markdown",
   "metadata": {},
   "source": [
    "**Q1**: Explicitly describe image convolution: the input, the transformation, and the output. Why is it useful for computer vision?\n",
    "\n",
    "**A1**:The convolution operation takes a filter F of size p x q and an image I of size m x n. It then uses the filter F to, for each pixel in image I, compute a weighted sum of the surrounding pixels. Convolutions of image data take the form: $y(r,c) = \\sum_{i,j} I(i,j) F(r-i,c-j) $\n",
    "\n",
    "Convolutions allows us to enhance images (e.g. denoising, increase contrast, resizing, etc.), extract information from images (e.g. texture, edges, distinctive points, etc.) or detect patterns (e.g. template matching)."
   ]
  },
  {
   "cell_type": "markdown",
   "metadata": {},
   "source": [
    "**Q2**: What is the difference between convolution and correlation? Construct a scenario which produces a different output between both operations.\n",
    "\n",
    "**A2**: The difference between the correlation operation and the convolution operation is that in the case of the latter the filter is flipped on the horizontal axis. In other words the filter is rotated by 180 degrees. If the filter matrix is symmetric across the horizontal axis there is no difference between the correlation and covolution operation. However, if this is not the case, there will be a difference in the produced output."
   ]
  },
  {
   "cell_type": "code",
   "execution_count": null,
   "metadata": {},
   "outputs": [],
   "source": [
    "k = 1/9 * np.array([[10,10,10],[1,1,1],[5,5,5]])\n",
    "convimg = np.zeros_like(img)\n",
    "corrimg = np.empty_like(img)\n",
    "\n",
    "for channel_i in range(3):\n",
    "    convimg[:,:,channel_i] = ndimage.convolve(input=img[:,:,channel_i], weights=k)\n",
    "    corrimg[:,:,channel_i] = ndimage.correlate(input=img[:,:,channel_i], weights=k)\n",
    "np.sum(corrimg-convimg)"
   ]
  },
  {
   "cell_type": "markdown",
   "metadata": {},
   "source": [
    "**Q3**: What is the difference between a high pass filter and a low pass filter in how they are constructed, and what they do to the image? Please provide example kernels and output images."
   ]
  },
  {
   "cell_type": "code",
   "execution_count": null,
   "metadata": {},
   "outputs": [],
   "source": [
    "k_low = 1/9 * np.array([[1,1,1],[1,1,1],[1,1,1]])\n",
    "k_high = np.array([[0,-1,0],[-1,4,-1],[0,-1,0]])\n",
    "lpass = np.zeros_like(img)\n",
    "hpass = np.zeros_like(img)\n",
    "for channel_i in range(3):\n",
    "    lpass[:,:,channel_i] = ndimage.convolve(input=img[:,:,channel_i], weights=k_low)\n",
    "    hpass[:,:,channel_i] = ndimage.convolve(input=img[:,:,channel_i], weights=k_high)\n",
    "\n",
    "plt.subplot(1,2,1)\n",
    "imshow(lpass)\n",
    "plt.title(\"low pass\")\n",
    "plt.subplot(1,2,2)\n",
    "plt.title(\"high pass\")\n",
    "imshow(lpass-hpass)"
   ]
  },
  {
   "cell_type": "markdown",
   "metadata": {},
   "source": [
    "**Q4**:How does computation time vary with filter sizes from 3×3to15×15(for all odd and square sizes), and with image sizes from 0.25 MPix to 8 MPix (choose your own intervals)? Measure both using scipy.ndimage.convolve or scipy.ndimage.correlate to produce a matrix of values. Use the skimage.transform module to vary the size of an image. Use an appropriate charting function to plot your matrix of results, such as Axes3D.scatter or Axes3D.plotsurface.Do the results match your expectation given the number of multiply and add operations in convolution? Image:RISDance.jpg (in the .tex directory).\n",
    "\n",
    "**A4**: The computation time increases in a non-linear fashion. E.g. doubling the kernel size increases the computation time 5-fold."
   ]
  },
  {
   "cell_type": "code",
   "execution_count": null,
   "metadata": {},
   "outputs": [],
   "source": [
    "from scipy.ndimage import convolve\n",
    "from matplotlib.pyplot import imread, imshow\n",
    "import skimage\n",
    "import numpy as np\n",
    "from skimage.transform import rescale\n",
    "import warnings\n",
    "import time\n",
    "import seaborn as sns\n",
    "import pandas as pd\n",
    "warnings.filterwarnings('ignore')"
   ]
  },
  {
   "cell_type": "code",
   "execution_count": null,
   "metadata": {},
   "outputs": [],
   "source": [
    "img = imread(\"questions/RISDance.jpg\")"
   ]
  },
  {
   "cell_type": "code",
   "execution_count": null,
   "metadata": {},
   "outputs": [],
   "source": [
    "kernel_sizes = list(range(3,12))\n",
    "scale_factors = np.arange(1, 0, -0.2)\n",
    "measurements = np.empty((len(scale_factors),len(kernel_sizes)))\n",
    "for i, scale_i in enumerate(scale_factors):\n",
    "    img_scaled = rescale(img, scale_i)\n",
    "    for j, k_i in enumerate(kernel_sizes):\n",
    "        kernel = np.ones((k_i, k_i, 3)) / k_i**2 / 3       \n",
    "        start = time.time()\n",
    "        img_convolved = convolve(img_scaled, kernel)\n",
    "        end = time.time()\n",
    "        measurements[i,j] = end-start"
   ]
  },
  {
   "cell_type": "code",
   "execution_count": null,
   "metadata": {},
   "outputs": [],
   "source": [
    "imshow(img_convolved)"
   ]
  },
  {
   "cell_type": "code",
   "execution_count": null,
   "metadata": {},
   "outputs": [],
   "source": [
    "df = pd.DataFrame(measurements)\n",
    "df.columns = kernel_sizes\n",
    "df = df.set_index(np.round(scale_factors,2))\n",
    "sns.heatmap(df, annot=True)"
   ]
  },
  {
   "cell_type": "code",
   "execution_count": null,
   "metadata": {},
   "outputs": [],
   "source": [
    "sns.lineplot(kernel_sizes, df.iloc[1,:])"
   ]
  },
  {
   "cell_type": "code",
   "execution_count": null,
   "metadata": {},
   "outputs": [],
   "source": []
  }
 ],
 "metadata": {
  "kernelspec": {
   "display_name": "Python 3",
   "language": "python",
   "name": "python3"
  },
  "language_info": {
   "codemirror_mode": {
    "name": "ipython",
    "version": 3
   },
   "file_extension": ".py",
   "mimetype": "text/x-python",
   "name": "python",
   "nbconvert_exporter": "python",
   "pygments_lexer": "ipython3",
   "version": "3.7.1"
  }
 },
 "nbformat": 4,
 "nbformat_minor": 2
}
